{
 "cells": [
  {
   "cell_type": "code",
   "execution_count": 1,
   "metadata": {},
   "outputs": [],
   "source": [
    "import tensorflow as tf\n",
    "import numpy as np"
   ]
  },
  {
   "cell_type": "markdown",
   "metadata": {},
   "source": [
    "#### BOJ 1935. 후위 표기식 2  \n",
    "- 후위 표기식을 계산하는 것은 비교적 간단하다. \n",
    "    - 오히려 전위표기를 후위표기로 바꾸고자 할 때에 연산자의 우선순위를 고려해야 하기 때문에 더 어렵다.\n",
    "- 이 문제의 경우에도 알파벳에 할당되는 숫자를 dictionary의 형태에 저장을 해서 피연산자이면 stack에 넣고 연산자이면 stack에서 2개의 피연산자를 꺼내어 계산한 뒤에 다시 stack에 넣어주고 마지막에 stack에 저장된 수를 꺼내어 주면 된다.    "
   ]
  },
  {
   "cell_type": "code",
   "execution_count": 2,
   "metadata": {},
   "outputs": [],
   "source": [
    "from collections import deque"
   ]
  },
  {
   "cell_type": "code",
   "execution_count": 11,
   "metadata": {},
   "outputs": [],
   "source": [
    "import string\n",
    "alpha = string.ascii_uppercase\n",
    "alpha = list(alpha)"
   ]
  },
  {
   "cell_type": "code",
   "execution_count": 22,
   "metadata": {},
   "outputs": [
    {
     "name": "stdout",
     "output_type": "stream",
     "text": [
      "5\n",
      "ABC*+DE/-\n",
      "1\n",
      "2\n",
      "3\n",
      "4\n",
      "5\n"
     ]
    }
   ],
   "source": [
    "import sys\n",
    "n = int(input())\n",
    "func = list(str(input()).strip())\n",
    "dic = dict()\n",
    "for i in range(n):\n",
    "    dic[alpha[i]] = int(input())"
   ]
  },
  {
   "cell_type": "code",
   "execution_count": 43,
   "metadata": {},
   "outputs": [
    {
     "name": "stdout",
     "output_type": "stream",
     "text": [
      "6\n",
      "7\n",
      "0.8\n",
      "6.2\n",
      "6.20\n"
     ]
    }
   ],
   "source": [
    "file = []\n",
    "ans = 0\n",
    "for i in range(len(func)):\n",
    "    if func[i] in dic:\n",
    "        file.append(dic[func[i]])\n",
    "    else:\n",
    "        a,b = file.pop(), file.pop()\n",
    "        if func[i] == '+':file.append(b+a)\n",
    "        elif func[i] == '-':file.append(b-a)\n",
    "        elif func[i] == '/':file.append(float(b)/float(a))\n",
    "        else:file.append(a*b)\n",
    "print('%.2f' %float(file[0]))\n",
    "            \n",
    "        \n",
    "        "
   ]
  },
  {
   "cell_type": "markdown",
   "metadata": {},
   "source": [
    "#### BOJ 17298. 오큰수\n",
    "- 이 문제도 stack을 이용해서 푸는 문제이다.\n",
    "- NGE(i)라는 것은 i번째 숫자의 오른쪽의 수들중에서 크면서 가잔 왼쪽에 있어야 학기 때문에 뒤에 있는 숫자부터 역순으로 stack에 넣어주면서 더 큰 수가 나올 때 까지 숫자들을 pop해 낸다. 만약 stack에 아무 수도 남지 않았다면 정답 list에 -1을 넣어주고 수가 남아 있다면 제일 뒤의 수를 정답 list에 넣는다.\n",
    "- 마지막에는 ans list의 역수에 -1을 넣은 것을 출력하면 된다."
   ]
  },
  {
   "cell_type": "code",
   "execution_count": 44,
   "metadata": {},
   "outputs": [
    {
     "name": "stdout",
     "output_type": "stream",
     "text": [
      "[3, 2, 1]\n"
     ]
    }
   ],
   "source": [
    "a = [1,2,3]\n",
    "print(a[::-1])"
   ]
  },
  {
   "cell_type": "code",
   "execution_count": 48,
   "metadata": {},
   "outputs": [
    {
     "name": "stdout",
     "output_type": "stream",
     "text": [
      "4\n",
      "9 5 4 8\n",
      "-1 8 8 -1 "
     ]
    }
   ],
   "source": [
    "n = int(input())\n",
    "num = list(map(int, input().split(' ')))\n",
    "stack = []\n",
    "ans = []\n",
    "stack.append(num[-1])\n",
    "for i in range(n-2, -1,-1):\n",
    "    while stack and stack[-1] <= num[i]:\n",
    "        temp = stack.pop()\n",
    "    if stack:\n",
    "        ans.append(stack[-1])\n",
    "    else:\n",
    "        ans.append(-1)\n",
    "    stack.append(num[i])\n",
    "\n",
    "ans = ans[::-1]\n",
    "ans.append(-1)\n",
    "for i in ans:\n",
    "    print(i, end = ' ')\n",
    "    \n",
    "    \n",
    "    \n",
    "    \n"
   ]
  }
 ],
 "metadata": {
  "kernelspec": {
   "display_name": "Python 3",
   "language": "python",
   "name": "python3"
  },
  "language_info": {
   "codemirror_mode": {
    "name": "ipython",
    "version": 3
   },
   "file_extension": ".py",
   "mimetype": "text/x-python",
   "name": "python",
   "nbconvert_exporter": "python",
   "pygments_lexer": "ipython3",
   "version": "3.7.9"
  }
 },
 "nbformat": 4,
 "nbformat_minor": 4
}
