{
 "cells": [
  {
   "cell_type": "code",
   "execution_count": 1,
   "metadata": {},
   "outputs": [],
   "source": [
    "import tensorflow as tf\n",
    "import numpy as np"
   ]
  },
  {
   "cell_type": "markdown",
   "metadata": {},
   "source": [
    "### 큐\n",
    "- 한쪽 끝에서 원소를 넣고 반대쪽 끝에서 원소를 뺄 수 있는 자료구조\n",
    "- 먼저 들어온 원소가 먼저 나가는 구조 (FIFO)  \n",
    "\n",
    "#### BOJ 1966. 프린터 큐"
   ]
  },
  {
   "cell_type": "code",
   "execution_count": 14,
   "metadata": {},
   "outputs": [],
   "source": [
    "def order(n,m,imp):\n",
    "    global t\n",
    "    count = 0\n",
    "    while True:\n",
    "        order, weight = imp.popleft()\n",
    "        big = 0\n",
    "        for i in imp:\n",
    "            big = max(big, i[1])\n",
    "        if weight < big:\n",
    "            imp.append((order, weight))\n",
    "        else:\n",
    "            if order == m:\n",
    "                return count + 1\n",
    "            else:\n",
    "                count += 1"
   ]
  },
  {
   "cell_type": "code",
   "execution_count": 16,
   "metadata": {},
   "outputs": [
    {
     "name": "stdout",
     "output_type": "stream",
     "text": [
      "1\n",
      "6 0\n",
      "1 1 9 1 1 1 \n",
      "5\n"
     ]
    }
   ],
   "source": [
    "t = int(input())\n",
    "from collections import deque\n",
    "for _ in range(t):\n",
    "    imp = deque()\n",
    "    n,m = map(int, input().split())\n",
    "    file = list(map(int, input().split()))\n",
    "    for a,b in enumerate(file):\n",
    "        imp.append((a,b))\n",
    "    print(order(n,m,imp))"
   ]
  },
  {
   "cell_type": "markdown",
   "metadata": {},
   "source": [
    "### 덱\n",
    "- 양쪽의 처음과 끝에서 모두 삽입과 삭제가 가능한 자료구조\n",
    "- 큐와 달리 양쪽 모두 삽입이 가능하기 때문에 양쪽으로 확장이 가능하도록 구현해 주어야 한다."
   ]
  },
  {
   "cell_type": "markdown",
   "metadata": {},
   "source": [
    "#### BOJ 1021. 회전하는 큐\n",
    "- 왼쪽으로 원소를 한 칸 이동시키는 것을 pop_left로, 오른쪽으로 한 칸 이동시키는 것을 pop_right함수를 이용해서 구현했다.\n",
    "- 파이썬을 이용하면 배열로 쉽게 자료구조의 구현이 가능하기 때문에 아래와 같이 간단한 코드로도 실행이 가능하다."
   ]
  },
  {
   "cell_type": "code",
   "execution_count": 31,
   "metadata": {},
   "outputs": [
    {
     "name": "stdout",
     "output_type": "stream",
     "text": [
      "10 3\n",
      "2 9 5\n",
      "8\n"
     ]
    }
   ],
   "source": [
    "n,m = map(int, input().split())\n",
    "num = list(map(int, input().split()))\n",
    "deck = [int(i) for i in range(1, n+1)]\n",
    "\n",
    "answer = 0\n",
    "\n",
    "def pop_left(deck):\n",
    "    temp = deck.pop(0)\n",
    "    global answer\n",
    "    answer += 1\n",
    "    deck.append(temp)\n",
    "    return deck\n",
    "\n",
    "def pop_right(deck):\n",
    "    temp = [deck.pop(-1)]\n",
    "    global answer \n",
    "    answer += 1\n",
    "    deck = temp + deck\n",
    "    return deck\n",
    "    \n",
    "while num:\n",
    "    if num[0] == deck[0]:\n",
    "        deck.pop(0)\n",
    "        num.pop(0)\n",
    "    else:\n",
    "        if deck.index(num[0]) <= len(deck) //2:\n",
    "            while deck[0] != num[0]:\n",
    "                deck = pop_left(deck)\n",
    "        else:\n",
    "            while deck[0] != num[0]:\n",
    "                deck = pop_right(deck)\n",
    "    \n",
    "print(answer)"
   ]
  }
 ],
 "metadata": {
  "kernelspec": {
   "display_name": "Python 3",
   "language": "python",
   "name": "python3"
  },
  "language_info": {
   "codemirror_mode": {
    "name": "ipython",
    "version": 3
   },
   "file_extension": ".py",
   "mimetype": "text/x-python",
   "name": "python",
   "nbconvert_exporter": "python",
   "pygments_lexer": "ipython3",
   "version": "3.7.9"
  }
 },
 "nbformat": 4,
 "nbformat_minor": 4
}
