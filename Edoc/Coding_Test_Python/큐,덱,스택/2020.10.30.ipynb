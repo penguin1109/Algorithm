{
 "cells": [
  {
   "cell_type": "markdown",
   "metadata": {},
   "source": [
    "#### BOJ 3190. 뱀\n",
    "- 이 문제는 simulation, queue, stack의 알고리즘이 적용되는 문제이다.\n",
    "- 처음에는 방향을 바꾼다는 것의 의미를 아얘 뱀이 몸통 방향을 트는 것으로 생각해서 head와 tail의 좌표를 각각 deck의 head, tail처럼 사용해서 적용해야 하는 것인줄 알았다.\n",
    "    - 그러나 이동 방향만 바꾸면 되는 것이었기 때문에 이전 방향과 현재 이동방향을 입력인자로 받아서 방향을 바꾸어 주는 change_direction()함수를 정의 해서 이를 수행해 주었다.\n",
    "- 그리고 이어지는 순서는 \n",
    "1. board에 사과의 위치에는 1을, 나머지는 0을 지정하도록 해준다.\n",
    "2. 뱀의 머리의 좌표를 x,y로 지정하고 초기값은 당연히 0,0으로 설정한다.\n",
    "3. 뱀의 스스로의 몸이나 벽에 부딪히면 게임은 끝나기 때문에 뱀의 현재 몸통이 어느 좌표를 덮고 있는지 표시하는 snake 2차원 배열을 만든다.\n",
    "    - 만약에 사과의 위치로 이동하게 되면 길이를 늘리고 boar에서의 사과의 좌표에 해당하는 값을 1로 바꾸어 준다.\n",
    "    - 사과가 없는 위치에 도달하면 모든 지난 지점을 저장하는 tail 배열에서 첫 좌표값을 pop(0)을 해주고 해당 좌표의 snake값을 1로 바꾸어 준다.\n",
    "4. 이렇게 하고 만약에 방향을 바꾸어야 하는 시점이 찾아온다면 방향 또한 바꾸어 준다.(함수 이용)\n",
    "5. break없이 진행했다면 step += 1을 해준다."
   ]
  },
  {
   "cell_type": "code",
   "execution_count": 183,
   "metadata": {},
   "outputs": [
    {
     "name": "stdout",
     "output_type": "stream",
     "text": [
      "10\n",
      "5\n",
      "1 5\n",
      "1 3\n",
      "1 2\n",
      "1 6\n",
      "1 7\n",
      "4\n",
      "8 D\n",
      "10 D\n",
      "11 D\n",
      "13 L\n"
     ]
    }
   ],
   "source": [
    "n = int(input())\n",
    "k = int(input())\n",
    "board = [[0]*n for _ in range(n)]\n",
    "for _ in range(k):\n",
    "    a,b = map(int, input().split())\n",
    "    board[a-1][b-1] = 1\n",
    "l = int(input())\n",
    "order = []\n",
    "for _ in range(l):\n",
    "    order.append(list(input().split()))"
   ]
  },
  {
   "cell_type": "code",
   "execution_count": 184,
   "metadata": {},
   "outputs": [],
   "source": [
    "def change_direction(direction,b,di):\n",
    "    if b == 'D':\n",
    "        if di == 1:di, direction = 4,[1,0]\n",
    "        elif di == 2:di,direction = 1,[0,1]\n",
    "        elif di == 3:di,direction = 2,[-1,0]\n",
    "        else:di,direction = 3,[0,-1]\n",
    "    else:\n",
    "        if di == 1:di, direction = 2,[-1,0]\n",
    "        elif di == 2:di,direction = 3,[0,-1]\n",
    "        elif di == 3:di,direction = 4,[1,0]\n",
    "        else:di,direction = 1,[0,1]\n",
    "    return direction, di"
   ]
  },
  {
   "cell_type": "code",
   "execution_count": 185,
   "metadata": {},
   "outputs": [
    {
     "name": "stdout",
     "output_type": "stream",
     "text": [
      "13\n"
     ]
    }
   ],
   "source": [
    "x,y = 0,0\n",
    "tail = []\n",
    "snake = [[0]*n for _ in range(n)]\n",
    "snake[0][0] = 1\n",
    "step, curr_dir,di = 1,[0,1],1\n",
    "time, heading = order.pop(0)\n",
    "    \n",
    "while True:\n",
    "    if step-1 == int(time):\n",
    "        curr_dir, di = change_direction(curr_dir, heading,di)\n",
    "        if order:\n",
    "            time,heading = order.pop(0)\n",
    "            time = int(time)\n",
    "        else:\n",
    "            time = -1\n",
    "    tail.append([x,y])\n",
    "    x = x + curr_dir[0]\n",
    "    y = y + curr_dir[1]\n",
    "    \n",
    "    if (x < 0 or x >= n) or (y < 0 or y >= n):\n",
    "        break\n",
    "        \n",
    "    if snake[x][y] == 1:\n",
    "        break\n",
    "        \n",
    "    \n",
    "    if board[x][y] == 0:\n",
    "        popped = tail.pop(0)\n",
    "        snake[popped[0]][popped[1]] = 0\n",
    "    else:\n",
    "        board[x][y]= 0\n",
    "    \n",
    "    snake[x][y] = 1\n",
    "    step += 1\n",
    "        \n",
    "print(step)        "
   ]
  },
  {
   "cell_type": "markdown",
   "metadata": {},
   "source": [
    "- 방향이 오른쪽이면 head[1]+1, tail[1]+1 (사과가 있으면 유지) (1)\n",
    "- 방향이 왼쪽이면 head[1]-1, tail[1]-1 (사과가 있으면 유지) (3)\n",
    "- 방향이 위이면 head[0]-1, tail[0]-1 (사과가 있으면 유지) (2)\n",
    "- 방향이 아래이면 head[0]+1, tail[0]+1 (사과가 있으면 유지) (4)"
   ]
  },
  {
   "cell_type": "markdown",
   "metadata": {},
   "source": [
    "1. 회전을 하게 되면 tail의 위치는 그대로이고 \n",
    "2. head[0]는 tail[0] + length, head[1]는 tail[1] 으로 바꾸어 준다."
   ]
  }
 ],
 "metadata": {
  "kernelspec": {
   "display_name": "Python 3",
   "language": "python",
   "name": "python3"
  },
  "language_info": {
   "codemirror_mode": {
    "name": "ipython",
    "version": 3
   },
   "file_extension": ".py",
   "mimetype": "text/x-python",
   "name": "python",
   "nbconvert_exporter": "python",
   "pygments_lexer": "ipython3",
   "version": "3.7.9"
  }
 },
 "nbformat": 4,
 "nbformat_minor": 4
}
