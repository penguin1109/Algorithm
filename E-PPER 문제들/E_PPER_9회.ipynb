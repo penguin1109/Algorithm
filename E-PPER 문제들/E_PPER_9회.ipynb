{
  "nbformat": 4,
  "nbformat_minor": 0,
  "metadata": {
    "colab": {
      "name": "E-PPER 9회 ",
      "provenance": []
    },
    "kernelspec": {
      "name": "python3",
      "display_name": "Python 3"
    }
  },
  "cells": [
    {
      "cell_type": "markdown",
      "metadata": {
        "id": "ZV4sy4-5Yk9K",
        "colab_type": "text"
      },
      "source": [
        "E-PPER 2017.4.1 C부문(Python 3로 풀이)"
      ]
    },
    {
      "cell_type": "markdown",
      "metadata": {
        "id": "iK-E7IPtYsGD",
        "colab_type": "text"
      },
      "source": [
        "1번"
      ]
    },
    {
      "cell_type": "code",
      "metadata": {
        "id": "FYZ2zmS7YrdY",
        "colab_type": "code",
        "colab": {}
      },
      "source": [
        "import sys\n",
        "n = int(sys.stdin.readline())\n",
        "for i in range(1,n+1):\n",
        "    if i%2 == 0 and i%3 == 0:\n",
        "        print(i, end = ' ')"
      ],
      "execution_count": null,
      "outputs": []
    },
    {
      "cell_type": "markdown",
      "metadata": {
        "id": "qQrlLL_8YuYa",
        "colab_type": "text"
      },
      "source": [
        "2번"
      ]
    },
    {
      "cell_type": "code",
      "metadata": {
        "id": "1xqtcFMAYuz1",
        "colab_type": "code",
        "colab": {}
      },
      "source": [
        "m,d = map(int, input().split())\n",
        "days = [31,28,31,30,31,30,31,31,30,31,30,31]\n",
        "day = d-1\n",
        "for i in range(m-1):\n",
        "    day += days[i]\n",
        "date = ['일','월','화','수','목','금','토']\n",
        "print(date[day%7]+'요일')"
      ],
      "execution_count": null,
      "outputs": []
    },
    {
      "cell_type": "markdown",
      "metadata": {
        "id": "z49OaYb0aGtO",
        "colab_type": "text"
      },
      "source": [
        "3번"
      ]
    },
    {
      "cell_type": "markdown",
      "metadata": {
        "id": "UFjUdqpeBS3p",
        "colab_type": "text"
      },
      "source": [
        "이 문제를 풀 때 입력값을 sys.stdin.readline()으로 받았더니 답이 나오지 않았는데 보니까 마지막에'/n'이 붙어서 함께 입력되었기 때문이었다"
      ]
    },
    {
      "cell_type": "code",
      "metadata": {
        "id": "ap1euiotAPOh",
        "colab_type": "code",
        "colab": {}
      },
      "source": [
        "import sys\n",
        "n = int(sys.stdin.readline())\n",
        "name = [input() for _ in range(n)]\n",
        "for i in range(n):\n",
        "    ans = str(name[i])+'!'\n",
        "    print('Hello, %s' %(ans))"
      ],
      "execution_count": null,
      "outputs": []
    },
    {
      "cell_type": "markdown",
      "metadata": {
        "id": "QrIk1CmYBgg_",
        "colab_type": "text"
      },
      "source": [
        "4번"
      ]
    },
    {
      "cell_type": "markdown",
      "metadata": {
        "id": "2MoTVNFDEtIK",
        "colab_type": "text"
      },
      "source": [
        "\n",
        "```\n",
        "if 3 or 6 or 9 in [int(k) for k in str(i)\n",
        "```\n",
        "라고 했는데 답이 전부 다 있다고 나왔다. 아래처럼 바꿔주니 답은 맞았지만 위의 코드가 뭐가 잘못된걸까\n",
        "\n",
        "\n"
      ]
    },
    {
      "cell_type": "code",
      "metadata": {
        "id": "63qU3GaSBhR1",
        "colab_type": "code",
        "colab": {}
      },
      "source": [
        "s,e = map(int, input().split())\n",
        "count = 0\n",
        "for i in range(s, e+1):\n",
        "    if 3 in [int(k) for k in str(i)]:count+= 1\n",
        "    elif 6 in [int(k) for k in str(i)]:count += 1\n",
        "    elif 9 in [int(k) for k in str(i)]:count += 1\n",
        "print(count)"
      ],
      "execution_count": null,
      "outputs": []
    },
    {
      "cell_type": "markdown",
      "metadata": {
        "id": "y5cuShtDFAO4",
        "colab_type": "text"
      },
      "source": [
        "5번"
      ]
    },
    {
      "cell_type": "markdown",
      "metadata": {
        "id": "RGrw7MKLHaaq",
        "colab_type": "text"
      },
      "source": [
        "전치 행렬을 구하는 문제였다. 보통 시뮬레이션 문제에서 이런 식으로 뒤집는 경우가 있는데 이런경우는 1차원 리스트로 만들어 놓고 시작하는 것이 훨씬 낫다."
      ]
    },
    {
      "cell_type": "code",
      "metadata": {
        "id": "8-B3A9TgFAli",
        "colab_type": "code",
        "colab": {}
      },
      "source": [
        "import sys\n",
        "m,n = map(int, sys.stdin.readline().split())\n",
        "board = []\n",
        "for _ in range(m):board += list(map(int, sys.stdin.readline().split())) \n",
        "for i in range(0,len(board),m):\n",
        "    temp = board[i:i+m]\n",
        "    for i in temp:print(i,end = ' ')\n",
        "    print()"
      ],
      "execution_count": null,
      "outputs": []
    },
    {
      "cell_type": "markdown",
      "metadata": {
        "id": "pLwUuVRwHjRk",
        "colab_type": "text"
      },
      "source": [
        "6번"
      ]
    },
    {
      "cell_type": "code",
      "metadata": {
        "id": "8m74xXdyHkLM",
        "colab_type": "code",
        "colab": {}
      },
      "source": [
        "import sys\n",
        "s,y,r,n = map(int, sys.stdin.readline().split())\n",
        "num = list(map(int, sys.stdin.readline().split()))\n",
        "count = 0\n",
        "for i in range(0,len(num),2):\n",
        "    a,b = num[i], num[i+1]\n",
        "    if (a-s)**2+(b-y)**2 <= r**2:\n",
        "        count += 1\n",
        "print(count)"
      ],
      "execution_count": null,
      "outputs": []
    },
    {
      "cell_type": "markdown",
      "metadata": {
        "id": "JPp71pHOLAet",
        "colab_type": "text"
      },
      "source": [
        "7번"
      ]
    },
    {
      "cell_type": "markdown",
      "metadata": {
        "id": "H57B17KyO37Z",
        "colab_type": "text"
      },
      "source": [
        "후위 표기법을 구현하는 연산이었다. 사칙 연산 기호들의 우선순위를 고려할 필요는 없어서 그냥 스택으로 편하게 구현이 가능했다."
      ]
    },
    {
      "cell_type": "code",
      "metadata": {
        "id": "kkrKOUNCLBZC",
        "colab_type": "code",
        "colab": {}
      },
      "source": [
        "import sys\n",
        "n = int(input())\n",
        "calc = list(map(str, sys.stdin.readline().split()))\n",
        "from collections import deque\n",
        "stack = deque()\n",
        "ans = int(calc.pop(0))\n",
        "for k in calc:\n",
        "    if k == '+':\n",
        "        a = stack.pop()\n",
        "        ans += a\n",
        "    elif k == '-':\n",
        "        a = stack.pop()\n",
        "        ans -= a\n",
        "    elif k == '/':\n",
        "        a = stack.pop()\n",
        "        ans = ans//a\n",
        "    elif k == '*':\n",
        "        a = stack.pop()\n",
        "        ans *= a\n",
        "    else:\n",
        "        stack.append(int(k))\n",
        "print(ans)"
      ],
      "execution_count": null,
      "outputs": []
    },
    {
      "cell_type": "markdown",
      "metadata": {
        "id": "shl4qMN4PBzK",
        "colab_type": "text"
      },
      "source": [
        "8번"
      ]
    },
    {
      "cell_type": "code",
      "metadata": {
        "id": "N0vTuo7wPDM5",
        "colab_type": "code",
        "colab": {}
      },
      "source": [
        "import sys\n",
        "n = int(sys.stdin.readline())\n",
        "weight = list(map(int, sys.stdin.readline().split()))\n",
        "every_weight = sum(weight)\n",
        "ans = 999999999\n",
        "team_1, team_2 = 0,0\n",
        "def dfs(v, add,ppl):\n",
        "    global ans, team_1, team_2\n",
        "    if v == n:\n",
        "        if add != every_weight and -1 <= ppl-(n-ppl) <= 1: \n",
        "            if ans > abs(add-(every_weight-add)):\n",
        "                ans = abs(add-(every_weight-add))\n",
        "                team_1, team_2 = min(add, every_weight-add), max(add, every_weight-add)\n",
        "        return\n",
        "    dfs(v+1, add+weight[v],ppl+1)\n",
        "    dfs(v+1, add,ppl)\n",
        "dfs(1,0,0)\n",
        "dfs(1,weight[0],1)\n",
        "print(team_1, team_2)"
      ],
      "execution_count": null,
      "outputs": []
    },
    {
      "cell_type": "markdown",
      "metadata": {
        "id": "FRszmOqjTU0t",
        "colab_type": "text"
      },
      "source": [
        "9번"
      ]
    },
    {
      "cell_type": "markdown",
      "metadata": {
        "id": "ZNdvW2JFgGLU",
        "colab_type": "text"
      },
      "source": [
        "하노이의 탑문제였는데 저번에 풀 때에 개념을 정확하게 이해를 못 했었다면 이번에는 하노이의 탑과 더불어 재귀의 작동 원리에 대해 한층 더 깊게 이해할 수 있었다."
      ]
    },
    {
      "cell_type": "code",
      "metadata": {
        "id": "8uL5P1gZTVVE",
        "colab_type": "code",
        "colab": {}
      },
      "source": [
        "import sys\n",
        "n = int(sys.stdin.readline())\n",
        "def hanoi(give, middle, get, n):\n",
        "    if n == 0:\n",
        "        return\n",
        "    hanoi(give, get, middle, n-1)\n",
        "    print('%s: %s -> %s' %(str(n), str(give), str(get)))\n",
        "    hanoi(middle,give,get, n-1)\n",
        "hanoi('A','B','C',n)"
      ],
      "execution_count": null,
      "outputs": []
    }
  ]
}