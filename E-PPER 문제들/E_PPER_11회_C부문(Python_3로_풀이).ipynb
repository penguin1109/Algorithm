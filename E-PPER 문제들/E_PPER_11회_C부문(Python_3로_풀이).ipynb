{
  "nbformat": 4,
  "nbformat_minor": 0,
  "metadata": {
    "colab": {
      "name": "E-PPER 11회 C부문(Python 3로 풀이)",
      "provenance": []
    },
    "kernelspec": {
      "name": "python3",
      "display_name": "Python 3"
    }
  },
  "cells": [
    {
      "cell_type": "markdown",
      "metadata": {
        "id": "jzRafknUU4DM",
        "colab_type": "text"
      },
      "source": [
        "E-PPER 11회 C부문(Python 3로 풀이)"
      ]
    },
    {
      "cell_type": "markdown",
      "metadata": {
        "id": "Zoa-YRHoVARM",
        "colab_type": "text"
      },
      "source": [
        "1번"
      ]
    },
    {
      "cell_type": "code",
      "metadata": {
        "id": "RBWeTlJIUbje",
        "colab_type": "code",
        "colab": {}
      },
      "source": [
        "import sys\n",
        "n = int(sys.stdin.readline())\n",
        "num = ilst(map(int, sys.stdin.readline().split()))\n",
        "i,j = map(int, sys.stdin.readline().split())\n",
        "print(sum(num[i-1:j]))"
      ],
      "execution_count": null,
      "outputs": []
    },
    {
      "cell_type": "markdown",
      "metadata": {
        "id": "jSSUV0ypVVLE",
        "colab_type": "text"
      },
      "source": [
        "2번"
      ]
    },
    {
      "cell_type": "code",
      "metadata": {
        "id": "Tn2l9sg3VWMu",
        "colab_type": "code",
        "colab": {}
      },
      "source": [
        "n = int(input())\n",
        "for i in range(1,n+1,2):\n",
        "    print(' '*((n-i)//2)+'*'*i)\n",
        "for i in range(n-2,0,-2):\n",
        "    print(' '*((n-i)//2)+'*'*i)"
      ],
      "execution_count": null,
      "outputs": []
    },
    {
      "cell_type": "markdown",
      "metadata": {
        "id": "WpRpaZn2VkFu",
        "colab_type": "text"
      },
      "source": [
        "3번"
      ]
    },
    {
      "cell_type": "code",
      "metadata": {
        "id": "6CYBvxyRVkl0",
        "colab_type": "code",
        "colab": {}
      },
      "source": [
        "import sys,math\n",
        "n = int(sys.stdin.readline())\n",
        "def judge(n):\n",
        "    maxi = int(math.sqrt(n))\n",
        "    for k in range(2,maxi+1):\n",
        "        if n%k == 0:\n",
        "            return False\n",
        "    return True\n",
        "if judge(n):print(1)\n",
        "else:print(0)"
      ],
      "execution_count": null,
      "outputs": []
    },
    {
      "cell_type": "markdown",
      "metadata": {
        "id": "MM7rSzo2WWR7",
        "colab_type": "text"
      },
      "source": [
        "3번 문제와 함께 별도로 에라토스테네스의 체를 이용해 소수를 구하는 코드를 구현해봄"
      ]
    },
    {
      "cell_type": "code",
      "metadata": {
        "id": "5HPheInZWcnc",
        "colab_type": "code",
        "colab": {}
      },
      "source": [
        "n = int(input())\n",
        "file = [int(i) for i in range(2,n+1)]\n",
        "for k in file:\n",
        "    for j in range(k*2, n+1, k):\n",
        "        if j in file:file.remove(j)\n",
        "print(file)"
      ],
      "execution_count": null,
      "outputs": []
    },
    {
      "cell_type": "markdown",
      "metadata": {
        "id": "dCwscff7Xgwx",
        "colab_type": "text"
      },
      "source": [
        "4번"
      ]
    },
    {
      "cell_type": "code",
      "metadata": {
        "id": "NDH4sZKxXhXs",
        "colab_type": "code",
        "colab": {}
      },
      "source": [
        "left, right = dict(), dict()\n",
        "for _ in range(3):\n",
        "    x,y = map(int, input().split())\n",
        "    if x not in left:left[x] = 1\n",
        "    else:left[x] += 1\n",
        "    if y not in right:right[y] = 1\n",
        "    else:right[y]+=1\n",
        "x,y = 0,0\n",
        "for i in left:\n",
        "    if left[i] == 1:\n",
        "        x = i\n",
        "for i in right:\n",
        "    if right[i] == 1:\n",
        "        y = i\n",
        "print(x,y)"
      ],
      "execution_count": null,
      "outputs": []
    },
    {
      "cell_type": "markdown",
      "metadata": {
        "id": "W_Wgrf3zZ2aq",
        "colab_type": "text"
      },
      "source": [
        "python dictionary의 사용법을 다시 살펴 보았다.\n",
        "\n",
        "dict[key] = value의 형태를 가지는데, 나는 value를 index라고 착각했다.\n",
        "\n",
        "1. for key in dict\n",
        "2. for val in dict.values()\n",
        "3. for key, val in dict.items()\n",
        "\n",
        "요소를 삭제 할 때는 dict.del(key)를 이용한다.\n",
        "\n",
        "그리고 dict(list)를 해주면 리스트를 dictionary형태로 바꾸어 준다.\n",
        "\n",
        "\n",
        "\n",
        "\n",
        "\n"
      ]
    },
    {
      "cell_type": "markdown",
      "metadata": {
        "id": "8uOpC4NAa_e-",
        "colab_type": "text"
      },
      "source": [
        "5번"
      ]
    },
    {
      "cell_type": "code",
      "metadata": {
        "id": "E3pBUaPja9KQ",
        "colab_type": "code",
        "colab": {}
      },
      "source": [
        "import sys\n",
        "data = int(sys.stdin.readline())\n",
        "n = int(sys.stdin.readline())\n",
        "num = list(map(int, sys.stdin.readline().split()))\n",
        "valid = [int(str(data)[-1]), int(str(int(str(data)[-1])+5)[-1])]\n",
        "ans = 0\n",
        "for i in num:\n",
        "    if int(str(i)[-1]) in valid:ans += 1\n",
        "print(ans)"
      ],
      "execution_count": null,
      "outputs": []
    },
    {
      "cell_type": "markdown",
      "metadata": {
        "id": "k6nm3-N6cH6v",
        "colab_type": "text"
      },
      "source": [
        "6번"
      ]
    },
    {
      "cell_type": "code",
      "metadata": {
        "id": "RvxQkMtCcIoI",
        "colab_type": "code",
        "colab": {}
      },
      "source": [
        "import sys\n",
        "p = int(sys.stdin.readline())\n",
        "num = [str(i) for i in str(p)]\n",
        "\n",
        "ans = 999999999\n",
        "def make(v):\n",
        "    global visited,ans\n",
        "    if len(v) == len(num):\n",
        "        if int(v) > p:\n",
        "            ans = min(ans,int(v))\n",
        "        return\n",
        "    for i in range(len(num)):\n",
        "        if visited[i] == 0:\n",
        "            visited[i] = 1\n",
        "            make(v+(num[i]))\n",
        "            visited[i] = 0\n",
        "for k in range(len(num)):\n",
        "    visited = [0]*len(num)\n",
        "    visited[k] = 1\n",
        "    make(num[k])\n",
        "if ans == 999999999:print(0) \n",
        "else:print(ans)"
      ],
      "execution_count": null,
      "outputs": []
    },
    {
      "cell_type": "markdown",
      "metadata": {
        "id": "sfpuhgw0eXrg",
        "colab_type": "text"
      },
      "source": [
        "7번"
      ]
    },
    {
      "cell_type": "code",
      "metadata": {
        "id": "tBRO5fJSeYSq",
        "colab_type": "code",
        "colab": {}
      },
      "source": [
        "import sys\n",
        "n = int(sys.stdin.readline())\n",
        "num = [int(sys.stdin.readline()) for _ in range(n)]\n",
        "def make_ave(file):\n",
        "    ans = file[0]\n",
        "    for k in range(1, n):\n",
        "        ans = (ans + file[k])/2\n",
        "    return ans\n",
        "def dfs(v, file):\n",
        "    global ans\n",
        "    if v == n:\n",
        "        ans = max(ans, make_ave(file))\n",
        "        return \n",
        "    for k in range(n):\n",
        "        if visit[k] == 0:\n",
        "            visit[k] = 1\n",
        "            dfs(v+1, file+[num[k]])\n",
        "            visit[k] = 0\n",
        "ans = 0\n",
        "for i in range(n):\n",
        "    visit = [0]*n\n",
        "    visit[i] = 1\n",
        "    dfs(1, [num[i]])\n",
        "print('%0.6f' %(float(ans)))"
      ],
      "execution_count": null,
      "outputs": []
    },
    {
      "cell_type": "markdown",
      "metadata": {
        "id": "2kpqvD9umd6B",
        "colab_type": "text"
      },
      "source": [
        "처음에는 소수점 이하 6째 자리까지 출력하는 방법을 몰랐었는데 float로 바꾸어서 '%0.6f'를 하고 float로 int를 바꿔 주면 되는 것이었다.\n",
        "\n",
        "그리고 입력받는 수가 중복이 될 수 있어서 if k in file로 하면 충분히 출력이 되지 않았기 때문에 visit리스트가 반드시 필요했다."
      ]
    },
    {
      "cell_type": "markdown",
      "metadata": {
        "id": "raST-I48m0EK",
        "colab_type": "text"
      },
      "source": [
        "8번"
      ]
    },
    {
      "cell_type": "code",
      "metadata": {
        "id": "1KnR8CFRmzTA",
        "colab_type": "code",
        "colab": {}
      },
      "source": [
        "import string\n",
        "alpha= [str(i) for i in string.ascii_lowercase]\n",
        "code = [str(i) for i in input()]\n",
        "num = list(map(int, input().strip()))\n",
        "ans = ''\n",
        "length = len(code)\n",
        "if len(code) % 7 != 0:\n",
        "    for k in range(7,1000,7):\n",
        "        if len(code) < k:\n",
        "            length = k\n",
        "            break\n",
        "code = code + alpha[:length-len(code)]\n",
        "for k in range(0, length, 7):\n",
        "    temp = code[k:k+7]\n",
        "    for i in range(7):\n",
        "        ans += temp[num[i]-1]\n",
        "print(ans)"
      ],
      "execution_count": null,
      "outputs": []
    },
    {
      "cell_type": "markdown",
      "metadata": {
        "id": "66PUIPj4rmgI",
        "colab_type": "text"
      },
      "source": [
        "알파벳이 모두 순서대로 저장되어있는 문자열을 불러오는 파이썬 라이브러리로 string.ascii_lowercase가 존재"
      ]
    },
    {
      "cell_type": "markdown",
      "metadata": {
        "id": "wXbwVGHhrxZI",
        "colab_type": "text"
      },
      "source": [
        "9번"
      ]
    },
    {
      "cell_type": "code",
      "metadata": {
        "id": "5Xiub3cWrwlY",
        "colab_type": "code",
        "colab": {}
      },
      "source": [
        "n = int(input())\n",
        "def judge(code):\n",
        "    from collections import deque\n",
        "    stack = deque()\n",
        "    for k in code:\n",
        "        if k == '(':\n",
        "            stack.append(k)\n",
        "        else:\n",
        "            if not stack:return False\n",
        "            else:\n",
        "                if stack[-1] == '(':\n",
        "                    stack.pop()\n",
        "    return True\n",
        "\n",
        "def make(code,a,b):\n",
        "    global ans\n",
        "    if a == n and b == n:\n",
        "        if judge(code):\n",
        "            ans.add(code)\n",
        "        return\n",
        "    if a+1 <= n and b <= n:\n",
        "        make(code+'(',a+1,b)\n",
        "    if b+1 <= n and b <=n :\n",
        "        make(code+')', a,b+1)\n",
        "ans = set()\n",
        "make('(', 1,0)\n",
        "print(len(ans))"
      ],
      "execution_count": null,
      "outputs": []
    },
    {
      "cell_type": "markdown",
      "metadata": {
        "id": "jUVleWUs0CEF",
        "colab_type": "text"
      },
      "source": [
        "10번"
      ]
    },
    {
      "cell_type": "code",
      "metadata": {
        "id": "A-_U7aVe0CsU",
        "colab_type": "code",
        "colab": {}
      },
      "source": [
        "import sys\n",
        "n = int(sys.stdin.readline())\n",
        "ans = 0\n",
        "move = [-1,0,1]\n",
        "board = [[]for _ in range(n)]\n",
        "time = 0\n",
        "for i in range(n):\n",
        "    info = list(map(int, input().split()))\n",
        "    time = max(time, max(info[1:]))\n",
        "    board[i] += [int(i)-1 for i in info[1:]]\n",
        "\n",
        "dp = [[0]*n for _ in range(2)]\n",
        "if 0 in board[n//2]:dp[0][n//2] = 1\n",
        "left, right = n//2,n//2\n",
        "\n",
        "for i in range(1,time):\n",
        "    if 0<=left-1:\n",
        "            left -= 1\n",
        "    if right + 1 < n:\n",
        "        right += 1\n",
        "    for k in range(left, right+1):\n",
        "        if k == 0:\n",
        "            dp[i%2][k] = max(dp[(i-1)%2][k], dp[(i-1)%2][k+1])\n",
        "        elif k == n-1:\n",
        "            dp[i%2][k] = max(dp[(i-1)%2][k], dp[(i-1)%2][k-1])\n",
        "        else:\n",
        "            dp[i%2][k] = max(dp[(i-1)%2][k], dp[(i-1)%2][k-1], dp[(i-1)%2][k+1])\n",
        "        if i in board[k]:\n",
        "            dp[i%2][k] += 1\n",
        "\n",
        "print(max(dp[(time-1)%2]))"
      ],
      "execution_count": null,
      "outputs": []
    },
    {
      "cell_type": "markdown",
      "metadata": {
        "id": "_SHT5GKChZ3c",
        "colab_type": "text"
      },
      "source": [
        "이 문제의 경우에는 처음에는 복잡했고 시간 초과가 발생할 것 처럼 보였으나 dp로 풀면 되는문제였다 무작정 dfs를 이용해서 탐색으로 풀면 안되는데, 그러다가 처음에 dp로 해결하고 자꾸 답이 다르게 나오는 경우가 발생했는데 그 이유는 처음 시작할때는 무조건 가운데 지점에서 시작해야 했기 떄문이다. 그래서 left, right두개의 포인터를 이용해서 양 끝점에 도달할떄까지 각각 -1,+1을 해주며 탐색을 진행했다"
      ]
    },
    {
      "cell_type": "code",
      "metadata": {
        "id": "dLB4fHTJhzBL",
        "colab_type": "code",
        "colab": {}
      },
      "source": [
        ""
      ],
      "execution_count": null,
      "outputs": []
    }
  ]
}