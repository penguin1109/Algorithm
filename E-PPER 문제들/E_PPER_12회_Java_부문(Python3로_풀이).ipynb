{
  "nbformat": 4,
  "nbformat_minor": 0,
  "metadata": {
    "colab": {
      "name": "E-PPER 12회 Java 부문(Python3로 풀이)",
      "provenance": []
    },
    "kernelspec": {
      "name": "python3",
      "display_name": "Python 3"
    },
    "accelerator": "GPU"
  },
  "cells": [
    {
      "cell_type": "markdown",
      "metadata": {
        "id": "tN9LZpgVv_2N",
        "colab_type": "text"
      },
      "source": [
        "# 12회 E-PPER JAVA 부문(Python3로 풀이)"
      ]
    },
    {
      "cell_type": "markdown",
      "metadata": {
        "id": "ar_jvpziwKqJ",
        "colab_type": "text"
      },
      "source": [
        "1번"
      ]
    },
    {
      "cell_type": "code",
      "metadata": {
        "id": "HuNaTk2ZwYOD",
        "colab_type": "code",
        "colab": {}
      },
      "source": [
        "import sys\n",
        "n = int(input())\n",
        "num = list(map(int, sys.stdin.readline().split()))\n",
        "i,j = map(int, sys.stdin.readline().split())\n",
        "print(sum(num[i-1:j]))"
      ],
      "execution_count": null,
      "outputs": []
    },
    {
      "cell_type": "markdown",
      "metadata": {
        "id": "9WtRzVxgxJUz",
        "colab_type": "text"
      },
      "source": [
        "2번"
      ]
    },
    {
      "cell_type": "code",
      "metadata": {
        "id": "Yq9Eqx0jxKgw",
        "colab_type": "code",
        "colab": {}
      },
      "source": [
        "import sys\n",
        "n = int(sys.stdin.readline())\n",
        "a = n//15+1 if n%15 != 0 else n//15\n",
        "b = n%15 if n%15 != 0 else 15\n",
        "print(a,b)"
      ],
      "execution_count": null,
      "outputs": []
    },
    {
      "cell_type": "markdown",
      "metadata": {
        "id": "kKIsSEY4yYvm",
        "colab_type": "text"
      },
      "source": [
        "3번"
      ]
    },
    {
      "cell_type": "code",
      "metadata": {
        "id": "RRg6YUkXyZd2",
        "colab_type": "code",
        "colab": {}
      },
      "source": [
        "import sys\n",
        "given = str(sys.stdin.readline()).split('-')\n",
        "ans = ''.join(str(i)[0] for i in given)\n",
        "print(ans)"
      ],
      "execution_count": null,
      "outputs": []
    },
    {
      "cell_type": "markdown",
      "metadata": {
        "id": "ClmRRywwy6lz",
        "colab_type": "text"
      },
      "source": [
        "4번"
      ]
    },
    {
      "cell_type": "code",
      "metadata": {
        "id": "YLrZ9Agxy7kA",
        "colab_type": "code",
        "colab": {}
      },
      "source": [
        "n = int(input())\n",
        "for i in range(1,n+1,2):\n",
        "    print(' '*((n-i)//2)+'*'*i)\n",
        "for i in range(n-2,0,-2):\n",
        "    print(' '*((n-i)//2)+'*'*i)"
      ],
      "execution_count": null,
      "outputs": []
    },
    {
      "cell_type": "markdown",
      "metadata": {
        "id": "QCYRzsuy0MsD",
        "colab_type": "text"
      },
      "source": [
        "5번"
      ]
    },
    {
      "cell_type": "code",
      "metadata": {
        "id": "I2Hg1sag0Qq2",
        "colab_type": "code",
        "colab": {}
      },
      "source": [
        "import sys\n",
        "note = list(map(int, sys.stdin.readline().split()))\n",
        "asc, dec = sorted(note), sorted(note, reverse = True)\n",
        "if note == asc:print('ascending')\n",
        "elif note == dec:print('decreasing')\n",
        "else:print('mixed')"
      ],
      "execution_count": null,
      "outputs": []
    },
    {
      "cell_type": "markdown",
      "metadata": {
        "id": "Vp2uR_EK1-Ro",
        "colab_type": "text"
      },
      "source": [
        "6번"
      ]
    },
    {
      "cell_type": "code",
      "metadata": {
        "id": "86RHjf_j1_Yx",
        "colab_type": "code",
        "colab": {}
      },
      "source": [
        "import sys\n",
        "a,b = map(list, sys.stdin.readline().split())\n",
        "a,b = sorted(list(str(i).lower() for i in a)),sorted(list(str(i).lower() for i in b))\n",
        "if a == b:print('Yes') \n",
        "else: print('No')"
      ],
      "execution_count": null,
      "outputs": []
    },
    {
      "cell_type": "markdown",
      "metadata": {
        "id": "4ER73f9z36Y8",
        "colab_type": "text"
      },
      "source": [
        "7번"
      ]
    },
    {
      "cell_type": "code",
      "metadata": {
        "id": "wtvldArB37cc",
        "colab_type": "code",
        "colab": {}
      },
      "source": [
        "import sys\n",
        "from itertools import combinations\n",
        "num = list(map(int, sys.stdin.readline().split()))\n",
        "left = sum(num) - 100\n",
        "file = list(combinations(num, 2))\n",
        "for k in file:\n",
        "    if sum(k) == left:\n",
        "        for i in k:\n",
        "            num.remove(i)\n",
        "        break\n",
        "for i in num:\n",
        "    print(i,end = ' ')"
      ],
      "execution_count": null,
      "outputs": []
    },
    {
      "cell_type": "markdown",
      "metadata": {
        "id": "h2PkXcco6axu",
        "colab_type": "text"
      },
      "source": [
        "8번"
      ]
    },
    {
      "cell_type": "code",
      "metadata": {
        "id": "RdTl6d216b5B",
        "colab_type": "code",
        "colab": {}
      },
      "source": [
        "import sys\n",
        "n = int(sys.stdin.readline())\n",
        "\n",
        "def check_label(num):\n",
        "    first, last = 1, 1\n",
        "    gap = 3\n",
        "    while True:\n",
        "        if first<= num <= last:\n",
        "            return (gap//2, first)\n",
        "        first, last = first +(gap-2), last + gap\n",
        "        gap += 2\n",
        "\n",
        "def answer(num):\n",
        "    layer,first = check_label(num)\n",
        "    if layer % 2 == 0:\n",
        "        x,y = 1,layer\n",
        "        for _ in range(layer-1):\n",
        "            if first == num:\n",
        "                return (x,y)\n",
        "            x += 1\n",
        "            first += 1\n",
        "        for _ in range(layer-1):\n",
        "            if first == num:\n",
        "                return(x,y)\n",
        "            y -= 1\n",
        "            first += 1\n",
        "    else:\n",
        "        x,y = layer, 1\n",
        "        for _ in range(layer-1):\n",
        "            if first == num:\n",
        "                return(x,y)\n",
        "            y += 1\n",
        "            first += 1\n",
        "        for _ in range(layer-1):\n",
        "            if first == num:\n",
        "                return(x,y)\n",
        "            x -= 1\n",
        "            first += 1\n",
        "    if first == num:\n",
        "        return(x,y)\n",
        "        \n",
        "for _ in range(n):\n",
        "    num = int(sys.stdin.readline())\n",
        "    a,b = answer(num)\n",
        "    print(a,b)"
      ],
      "execution_count": null,
      "outputs": []
    },
    {
      "cell_type": "markdown",
      "metadata": {
        "id": "NNqgqnTlCfPx",
        "colab_type": "text"
      },
      "source": [
        "9번"
      ]
    },
    {
      "cell_type": "code",
      "metadata": {
        "id": "-v4QYV1wCgC6",
        "colab_type": "code",
        "colab": {}
      },
      "source": [
        "import sys\n",
        "n,m = map(int, sys.stdin.readline().split())\n",
        "available = []\n",
        "for i in range(1, min(n,m)+1):\n",
        "    if n%i <= 2 and m%i <= 2:\n",
        "        available.append(i)\n",
        "def find(p):\n",
        "    if p == 1:\n",
        "        return True\n",
        "    if p == 2:\n",
        "        if ((n+m)*2-4)%2 == 0:\n",
        "            return True\n",
        "        else:\n",
        "            return False\n",
        "    if ((n+m)*2-4) % p != 0:\n",
        "        return False\n",
        "    else:\n",
        "        #가로가 전부 채워지는 경우\n",
        "        if n %p == 0:\n",
        "            if (m-2)%p != 0:\n",
        "                return False\n",
        "        #가로가 한 칸 남기고 채워지는 경우\n",
        "        elif n%p == 1:\n",
        "            if m%p == 0:\n",
        "                if (m-2)%p != 0:\n",
        "                    return False\n",
        "            elif m%p == 2:\n",
        "                return False\n",
        "        else:\n",
        "            #가로가 양쪽 끝 두칸을 남기고 채워지는 경우\n",
        "            if m%p != 0:\n",
        "                return False\n",
        "    return True\n",
        "for k in available:\n",
        "    if find(k):\n",
        "        print(k, end= ' ')"
      ],
      "execution_count": null,
      "outputs": []
    },
    {
      "cell_type": "markdown",
      "metadata": {
        "id": "GLiEw67bRwP9",
        "colab_type": "text"
      },
      "source": [
        "10번"
      ]
    },
    {
      "cell_type": "code",
      "metadata": {
        "id": "w6C9ZuL6Rw-3",
        "colab_type": "code",
        "colab": {}
      },
      "source": [
        "import sys\n",
        "n,r = map(int, sys.stdin.readline().split())\n",
        "time = list(map(int, sys.stdin.readline().split()))\n",
        "graph = [[]for _ in range(n)]\n",
        "for _ in range(n):\n",
        "    a,b = map(int, sys.stdin.readline().split())\n",
        "    graph[b-1].append(a-1)\n",
        "target = int(sys.stdin.readline())-1\n",
        "\n",
        "ans = 9999999999999\n",
        "def dfs(v, add):\n",
        "    global ans\n",
        "    idx, temp = 0,0\n",
        "    if len(graph[v]) == 0:\n",
        "        ans = min(ans, add)\n",
        "        return\n",
        "    else:\n",
        "        for k in graph[v]:\n",
        "            if temp < time[k]:temp, idx = time[k], k\n",
        "        dfs(idx, temp+add)\n",
        "dfs(target, time[target])\n",
        "print(ans)"
      ],
      "execution_count": null,
      "outputs": []
    }
  ]
}